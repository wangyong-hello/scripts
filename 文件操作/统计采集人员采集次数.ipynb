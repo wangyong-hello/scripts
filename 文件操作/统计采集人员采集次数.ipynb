{
 "cells": [
  {
   "cell_type": "code",
   "execution_count": 2,
   "id": "7c7f9cce",
   "metadata": {},
   "outputs": [],
   "source": [
    "import os\n"
   ]
  },
  {
   "cell_type": "code",
   "execution_count": 4,
   "id": "e749577e",
   "metadata": {},
   "outputs": [],
   "source": [
    "\n",
    "#root = r'D:\\视频录制0715_V1.0\\bin_demo\\x64\\Release\\records_1119\\Camera1'\n",
    "#root=r'D:\\视频录制0715_V1.0\\bin_demo\\x64\\Release\\records_1123_1126\\Camera1'\n",
    "#root=r'D:\\视频录制0715_V1.0\\bin_demo\\x64\\Release\\records_1130_1201\\Camera1'\n",
    "#root = r'D:\\视频录制0715_V1.0\\bin_demo\\x64\\Release\\records_1202\\Camera1'\n",
    "root = r'D:\\WorkSpace\\Datasets\\Eye_status_images\\close'\n",
    "vals_name = []\n",
    "val_list = os.listdir(root)\n",
    "for file in val_list:\n",
    "    val_name = file.split('Person_')[-1].split('_')[0]\n",
    "    vals_name.append(val_name)"
   ]
  },
  {
   "cell_type": "code",
   "execution_count": 5,
   "id": "a19a32e1",
   "metadata": {},
   "outputs": [],
   "source": [
    "vals_name_sets = set(vals_name)\n",
    "vals_dict = {}\n",
    "for item in vals_name_sets:\n",
    "    vals_dict.update({item:vals_name.count(item)})"
   ]
  },
  {
   "cell_type": "markdown",
   "id": "28f3eaba",
   "metadata": {},
   "source": [
    "\n",
    "\n"
   ]
  },
  {
   "cell_type": "code",
   "execution_count": 8,
   "id": "c7b64dc9",
   "metadata": {},
   "outputs": [
    {
     "data": {
      "text/plain": [
       "{'kangfude': 235,\n",
       " 'liupeng': 251,\n",
       " 'yuanxiaoqing': 264,\n",
       " 'lizheng': 256,\n",
       " 'lidengwu': 285,\n",
       " 'zhangwenzheng': 292,\n",
       " 'tiandaipeng': 384,\n",
       " 'malin': 252,\n",
       " 'maoling': 314,\n",
       " 'jiangleqi': 269,\n",
       " 'fangxiang': 242,\n",
       " 'denghao': 311,\n",
       " 'sunluomeng': 355,\n",
       " 'liuying': 255,\n",
       " 'yangshen': 298,\n",
       " 'wangkangpeng': 258,\n",
       " 'suoyan': 248,\n",
       " 'zhuqingyun': 347,\n",
       " 'wangshiyu': 387,\n",
       " 'wangtao': 232,\n",
       " 'cailili': 368,\n",
       " 'licheng': 268,\n",
       " 'tangyi': 199,\n",
       " 'zhangwulong': 236,\n",
       " 'sunyansong': 123,\n",
       " 'caijinwen': 199,\n",
       " 'luofangzhou': 108,\n",
       " 'heenying': 250}"
      ]
     },
     "execution_count": 8,
     "metadata": {},
     "output_type": "execute_result"
    }
   ],
   "source": [
    "vals_dict"
   ]
  },
  {
   "cell_type": "markdown",
   "id": "e0a01763",
   "metadata": {},
   "source": [
    "{'gaofeng': 109,     1\n",
    " 'chenwencan': 162,        1       \n",
    " 'shenying': 157,1\n",
    " 'make': 103,           1\n",
    " 'wangjianwei': 152,     1\n",
    " 'jiangjing': 154,      1\n",
    " 'test': 1,\n",
    " 'huajiahao': 156,      1\n",
    " 'hejinjian': 148,      1\n",
    " 'fangyiwei': 149,       1 \n",
    " 'grab': 1,\n",
    " 'zhangzhe': 155,      1\n",
    " 'zhouyong': 155}      1   "
   ]
  },
  {
   "cell_type": "markdown",
   "id": "3cbe6930",
   "metadata": {},
   "source": [
    "{'fengshaohua': 148,       1\n",
    " 'yanghong': 159,         1\n",
    " 'xuhaijun': 157,         1\n",
    " 'xiemengmeng': 151,       1   \n",
    " 'jinzhonghua': 157,       1\n",
    " 'xuelei': 157,           1\n",
    " 'lihaichao': 111,         1\n",
    "                                'liukangxi': 50,       \n",
    " 'ludi': 148,            1\n",
    " 'libin': 153,            1\n",
    " 'liuzhaoqiang': 153,       1\n",
    " 'liuzhonggang': 156,       1 \n",
    " 'wangshi': 155,          1\n",
    " 'zhouhongyan': 154,        1\n",
    "                               'zhulili': 106,           1\n",
    " 'wuyinglan': 152,         1\n",
    " 'chenjingjing': 156,       1\n",
    " 'huangjing': 153,         1\n",
    "                                'wangyinghui': 154,\n",
    " 'gaojiangjiang': 150,       1\n",
    " 'grab': 1,\n",
    " 'zouchen': 153,           1\n",
    " 'tianpengfei': 154,         1\n",
    " 'liumingzhang': 157,         1\n",
    " 'shenwei': 155,            1\n",
    " 'niuce': 157,             1\n",
    " 'weiyuanyuan': 157,         1\n",
    " 'yanghuilong': 129}         1"
   ]
  },
  {
   "cell_type": "markdown",
   "id": "19eafa46",
   "metadata": {},
   "source": [
    "wangshoupeng': 105,          1\n",
    "                                        'gusongchao': 106,  1\n",
    " 'wangxiaoyue': 149,         1\n",
    " 'xiaqiang': 103,            1\n",
    " 'luyao': 150,            1\n",
    " 'zhuhuilin': 149,         1\n",
    "                                       'fangdongmei': 105,    1\n",
    " 'zhangwl': 1,\n",
    " 'grab': 1,\n",
    " 'liulixiang': 148,           1\n",
    "                                         'linnan': 104,   1        \n",
    " 'lulu': 147,               1\n",
    "                                 'weidong': 105,             1      \n",
    " 'dengjingheng': 148,          1\n",
    " 'zhenxiaoyong': 149}          1"
   ]
  },
  {
   "cell_type": "markdown",
   "id": "cf5178d2",
   "metadata": {},
   "source": [
    "'zhudan': 151,           1 \n",
    " 'luobin': 151,           1\n",
    " 'guojialu': 154,        1\n",
    "                                         'xinwei': 108,   1\n",
    " 'grab': 1,\n",
    " 'yangchengang': 150,        1\n",
    " 'zhangqing': 164,         1\n",
    " 'zhanglan': 157}      1"
   ]
  },
  {
   "cell_type": "markdown",
   "id": "a3c82b05",
   "metadata": {},
   "source": [
    "gengyouqiang': 151,             1\n",
    " 'xuzhicheng': 152,             1\n",
    " 'weilinfu': 111,               1 \n",
    "                                       'hongjun': 111,     1\n",
    " 'guojiayao': 153,              1\n",
    " 'grab': 1,\n",
    " 'lihogli': 1,\n",
    " 'zhaimengfei': 153,             1\n",
    " 'lizaichen': 155,              1\n",
    "                                      'chenjian': 107}     1"
   ]
  },
  {
   "cell_type": "code",
   "execution_count": 17,
   "id": "24674c29",
   "metadata": {},
   "outputs": [
    {
     "name": "stdout",
     "output_type": "stream",
     "text": [
      "28\n"
     ]
    }
   ],
   "source": [
    "print(len(vals_dict))"
   ]
  },
  {
   "cell_type": "markdown",
   "id": "d1994636",
   "metadata": {},
   "source": [
    "{'gaofeng': 109,      1\n",
    " 'chenwencan': 162,    1\n",
    " 'shenying': 157,       1\n",
    " 'make': 103,        1\n",
    " 'wangjianwei': 152,      1\n",
    " 'jiangjing': 154,      1\n",
    " 'test': 1,\n",
    " 'huajiahao': 156,      1\n",
    " 'hejinjian': 148,     1\n",
    " 'yuhui': 159,        1\n",
    " 'fangyiwei': 149,    1\n",
    " 'grab': 1,\n",
    " 'zhangzhe': 155,      1\n",
    " 'zhouyong': 155}           1\n",
    "'housaisai': 148,      1\n",
    " 'chenjie': 153,      1\n",
    " 'jiangjingtao': 148,        1\n",
    " 'xianghanrao': 44,           1\n",
    " 'songziheng': 153,          1\n",
    " 'zenghongmei': 155,     1\n",
    " 'tangchenghua': 151,     1\n",
    " 'liaoyaowen': 112,         1\n",
    " 'panzhenghui': 152,          1\n",
    " 'grab': 1,\n",
    " 'test': 2,\n",
    " 'zhangjianke': 152,          1\n",
    " 'likai': 148,             1\n",
    " 'zhuyingchun': 92,       1\n",
    " 'liyanfang': 157,         1\n",
    " 'qiboaying': 151,            1\n",
    " 'chenjian': 153,    1\n",
    " 'chenting': 105,        1\n",
    " 'liweiyong': 156,          1\n",
    " 'jiangqingfeng': 113,       1\n",
    " 'yanghuilong': 154,         1\n",
    " 'yangjunqian': 148,    1\n",
    " 'weihongjie': 151,         1\n",
    " 'zhouhuangkai': 153,       1\n",
    " 'xianghanyao': 115,          1\n",
    " 'gaojing': 155,       1\n",
    " 'yanyiqun': 158,        1\n",
    " 'shicongli': 100,          1\n",
    " 'xietangsheng': 149,        1\n",
    " 'zhaolulu': 148}      1\n",
    " "
   ]
  }
 ],
 "metadata": {
  "kernelspec": {
   "display_name": "Python 3 (ipykernel)",
   "language": "python",
   "name": "python3"
  },
  "language_info": {
   "codemirror_mode": {
    "name": "ipython",
    "version": 3
   },
   "file_extension": ".py",
   "mimetype": "text/x-python",
   "name": "python",
   "nbconvert_exporter": "python",
   "pygments_lexer": "ipython3",
   "version": "3.7.1"
  }
 },
 "nbformat": 4,
 "nbformat_minor": 5
}

