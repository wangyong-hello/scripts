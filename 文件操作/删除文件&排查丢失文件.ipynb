{
 "cells": [
  {
   "cell_type": "code",
   "execution_count": 1,
   "id": "a82edab7",
   "metadata": {},
   "outputs": [],
   "source": [
    "import os"
   ]
  },
  {
   "cell_type": "markdown",
   "id": "7db1a526",
   "metadata": {},
   "source": [
    "排查丢失文件"
   ]
  },
  {
   "cell_type": "code",
   "execution_count": 6,
   "id": "845826a2",
   "metadata": {},
   "outputs": [],
   "source": [
    "#排查丢失文件\n",
    "root = 'D:/video/raw_data_0929/'\n",
    "camera1 = root + 'camera1'\n",
    "camera2 = root + 'camera2'\n",
    "camera3 = root + 'camera3'\n",
    "list2 = os.listdir(camera2)\n",
    "for file in os.listdir(camera1):\n",
    "    if file not in list2:\n",
    "        file_path = os.path.join(camera1,file)\n",
    "        print(file_path)"
   ]
  },
  {
   "cell_type": "markdown",
   "id": "7c2fcdb5",
   "metadata": {},
   "source": [
    "删除文件"
   ]
  },
  {
   "cell_type": "code",
   "execution_count": 7,
   "id": "bfa66c50",
   "metadata": {},
   "outputs": [],
   "source": [
    "#删除文件\n",
    "root = 'D:/video/raw_data_0930/'\n",
    "camera1 = root + 'camera1'\n",
    "camera2 = root + 'camera2'\n",
    "camera3 = root + 'camera3'\n",
    "list1 = os.listdir(camera1)\n",
    "for file in os.listdir(camera3):\n",
    "    if file not in list1:\n",
    "        file_path = os.path.join(camera3,file)\n",
    "        os.remove(file_path)"
   ]
  },
  {
   "cell_type": "code",
   "execution_count": null,
   "id": "efb42358",
   "metadata": {},
   "outputs": [],
   "source": []
  }
 ],
 "metadata": {
  "kernelspec": {
   "display_name": "Python 3 (ipykernel)",
   "language": "python",
   "name": "python3"
  },
  "language_info": {
   "codemirror_mode": {
    "name": "ipython",
    "version": 3
   },
   "file_extension": ".py",
   "mimetype": "text/x-python",
   "name": "python",
   "nbconvert_exporter": "python",
   "pygments_lexer": "ipython3",
   "version": "3.8.10"
  }
 },
 "nbformat": 4,
 "nbformat_minor": 5
}
